{
 "cells": [
  {
   "cell_type": "code",
   "execution_count": 9,
   "metadata": {},
   "outputs": [
    {
     "name": "stdout",
     "output_type": "stream",
     "text": [
      "itemset size:  375\n",
      "2\n",
      "generating...\n",
      "scanning...  70125 elements\n",
      "keeping  99292  elements instead of  100000\n",
      "itemset size:  9\n",
      "3\n",
      "generating...\n",
      "scanning...  1 elements\n",
      "keeping  1035  elements instead of  99292\n",
      "itemset size:  1\n",
      "4\n",
      "generating...\n",
      "{frozenset({'39', '825', '704'}): 1035}\n"
     ]
    }
   ],
   "source": [
    "threshold = 1000\n",
    "import itertools\n",
    "candidate_set = {}\n",
    "singletons = {}\n",
    "itemsets = []\n",
    "path = \"/Users/samuel/Desktop/KTH/ID2222 Data Mining/hw_2/T10I4D100K.dat\"\n",
    "inFile = open(path, 'r')\n",
    "lines = [line.strip('\\n').strip() for line in inFile]\n",
    "sets = [frozenset(i.split(\" \")) for i in lines]\n",
    "\n",
    "#generating singletons\n",
    "for line in sets:\n",
    "    for item in line:\n",
    "            #item = set(item)\n",
    "        if item in candidate_set:\n",
    "            candidate_set[item]+=1\n",
    "        else:\n",
    "            candidate_set[item] = 1\n",
    "#checking threshold\n",
    "itemsets = []\n",
    "itemset = {}\n",
    "for key, value in candidate_set.items():\n",
    "    if value >= threshold:\n",
    "        singletons[key] = value\n",
    "        itemset[frozenset([key])] = value\n",
    "        \n",
    "itemsets+=[itemset]        \n",
    "current_len = 2\n",
    "\n",
    "while len(itemset) > 0:\n",
    "    print(\"itemset size: \", len(itemset))\n",
    "    candidate_set = {}\n",
    "    print(current_len)\n",
    "    #generating candidates\n",
    "    print(\"generating...\")\n",
    "    #generating (previous items set, singleton) tuple\n",
    "    for entry in ((x,y) for x in itemset.keys() for y in singletons.keys()):\n",
    "        if entry[1] in entry[0]:#avoid the singleton is in item set (otherwise the set won't contain current_len elements)\n",
    "            continue\n",
    "        passed = True\n",
    "        for i in range (2, current_len):#checking the frequency of subsets\n",
    "            for comb in itertools.combinations(entry[0], i-1):#test subsets = subsets of the previous items set (from 2 length subsets to current_len-1). E.g. generating 4 elements subsets: len-1 + new item, len-2 + new item \n",
    "                test = frozenset(comb).union(frozenset([entry[1]]))\n",
    "                if test not in itemsets[i-1]:\n",
    "                    passed = False\n",
    "                    break\n",
    "            if not passed:\n",
    "                break\n",
    "        if not passed:\n",
    "            continue\n",
    "        candidate_set[entry[0].union(frozenset([entry[1]]))] = 0\n",
    "    itemset = {}\n",
    "    #new scan\n",
    "    if len(candidate_set) == 0:\n",
    "        break\n",
    "    print(\"scanning... \", len(candidate_set), \"elements\")\n",
    "    #with open(path) as f:\n",
    "    i=0\n",
    "    if current_len <= 4:\n",
    "        candidates_list = set(candidate_set.keys())\n",
    "        new_sets = []\n",
    "        for line in sets:\n",
    "            comb_list = set(frozenset(i) for i in itertools.combinations(line, current_len))\n",
    "            common = (candidates_list & comb_list)\n",
    "            for el in common:\n",
    "                #print(common)\n",
    "                candidate_set[el]+=1\n",
    "            if len(common) > 0:\n",
    "                new_sets+=[line]\n",
    "        print(\"keeping \", len(new_sets),\" elements instead of \", len(sets))\n",
    "        sets = new_sets\n",
    "    else:\n",
    "        new_sets = []\n",
    "        for line in sets:\n",
    "            keep = False\n",
    "            for candidate in candidate_set.keys():\n",
    "                if candidate.issubset(line):\n",
    "                    candidate_set[candidate]+=1\n",
    "                    keep = True\n",
    "            if keep:\n",
    "                new_sets+=[line]\n",
    "        print(\"keeping \", len(new_sets),\" elements instead of \", len(sets))\n",
    "        sets = new_sets\n",
    "\n",
    "    for key, value in candidate_set.items():\n",
    "        if value >= threshold:\n",
    "            itemset[key] = value\n",
    "    if len(itemset) > 0:\n",
    "        itemsets+=[itemset]\n",
    "    #print(itemsets)\n",
    "    current_len+=1\n",
    "print(itemsets[-1])\n",
    "#print(singletons)\n",
    "\n",
    "\n"
   ]
  },
  {
   "cell_type": "code",
   "execution_count": 6,
   "metadata": {},
   "outputs": [
    {
     "name": "stdout",
     "output_type": "stream",
     "text": [
      "[(frozenset({'704'}), frozenset({'825'}), 0.6142697881828316, 1102), (frozenset({'704'}), frozenset({'39'}), 0.617056856187291, 1107), (frozenset({'227'}), frozenset({'390'}), 0.577007700770077, 1049), (frozenset({'704'}), frozenset({'39', '825'}), 0.5769230769230769, 1035), (frozenset({'39', '825'}), frozenset({'704'}), 0.8719460825610783, 1035), (frozenset({'39', '704'}), frozenset({'825'}), 0.9349593495934959, 1035), (frozenset({'825', '704'}), frozenset({'39'}), 0.9392014519056261, 1035)]\n"
     ]
    }
   ],
   "source": [
    "\n",
    "confidence_threshold=0.5\n",
    "rules = []\n",
    "\n",
    "k_list = itemsets\n",
    "    # Iterate over all itemsets with k > 1 (pairs, triplets ...)\n",
    "for idx, k_itemsets in enumerate(k_list[1:]):\n",
    "  \n",
    "    k = idx + 1\n",
    "    \n",
    "    for itemset, transactions in k_itemsets.items():\n",
    "      \n",
    "        # This will be the support of the 'consequent' in the rule\n",
    "        itemset_support = transactions\n",
    "        \n",
    "        for i in range(len(itemset) - 1):\n",
    "          \n",
    "            # Generate antecedents of different sizes (1,...,k),\n",
    "            # where k is the size of the itemset\n",
    "            \n",
    "            antecedents = list(itertools.combinations(itemset, i + 1)) #Itertools to create every combinations of itemset of lenght i+1\n",
    "            #Ex : I have {A,B,C}, will compute {A,B}, {B,C} etc...\n",
    "            for antecedent in antecedents:\n",
    "              \n",
    "                antecedent = frozenset(antecedent)\n",
    "                consequent = itemset - antecedent #I/A as written in the lesson\n",
    "                #Ex : {A,B,C}- {A,B} = {C}\n",
    "                k_antecedent = len(antecedent)\n",
    "                k_antecedent_itemsets = k_list[k_antecedent - 1] #Gets all the candidates pairs/triplets etc of length of antecedent\n",
    "                # Find tcedent, its length is the support\n",
    "                if k_antecedent_itemsets[antecedent] is not None: #If antecedent computed is over support treshold s, won't be None\n",
    "                    antecedent_support = k_antecedent_itemsets[antecedent] #Support of this antecedent\n",
    "                    confidence = itemset_support / antecedent_support #Compute the confidence i.e number of apearance\n",
    "\n",
    "                    if confidence >= confidence_threshold:\n",
    "                        rules.append((antecedent, consequent, confidence, itemset_support))\n",
    "                    \n",
    "print(rules)"
   ]
  },
  {
   "cell_type": "code",
   "execution_count": 7,
   "metadata": {},
   "outputs": [
    {
     "data": {
      "text/plain": [
       "frozenset({'120',\n",
       "           '124',\n",
       "           '205',\n",
       "           '39',\n",
       "           '401',\n",
       "           '581',\n",
       "           '704',\n",
       "           '814',\n",
       "           '825',\n",
       "           '834'})"
      ]
     },
     "execution_count": 7,
     "metadata": {},
     "output_type": "execute_result"
    }
   ],
   "source": [
    "sets[0]"
   ]
  },
  {
   "cell_type": "code",
   "execution_count": 8,
   "metadata": {},
   "outputs": [
    {
     "ename": "KeyError",
     "evalue": "frozenset({'730', '25'})",
     "output_type": "error",
     "traceback": [
      "\u001b[0;31m---------------------------------------------------------------------------\u001b[0m",
      "\u001b[0;31mKeyError\u001b[0m                                  Traceback (most recent call last)",
      "\u001b[0;32m<ipython-input-8-ff9a894e5725>\u001b[0m in \u001b[0;36m<module>\u001b[0;34m\u001b[0m\n\u001b[1;32m      1\u001b[0m \u001b[0;34m\u001b[0m\u001b[0m\n\u001b[0;32m----> 2\u001b[0;31m \u001b[0mitemsets\u001b[0m\u001b[0;34m[\u001b[0m\u001b[0;36m1\u001b[0m\u001b[0;34m]\u001b[0m\u001b[0;34m[\u001b[0m\u001b[0mfrozenset\u001b[0m\u001b[0;34m(\u001b[0m\u001b[0;34m[\u001b[0m\u001b[0;34m\"730\"\u001b[0m\u001b[0;34m,\u001b[0m \u001b[0;34m\"25\"\u001b[0m\u001b[0;34m]\u001b[0m\u001b[0;34m)\u001b[0m\u001b[0;34m]\u001b[0m\u001b[0;34m\u001b[0m\u001b[0;34m\u001b[0m\u001b[0m\n\u001b[0m",
      "\u001b[0;31mKeyError\u001b[0m: frozenset({'730', '25'})"
     ]
    }
   ],
   "source": [
    "\n",
    "itemsets[1][frozenset([\"730\", \"25\"])]"
   ]
  },
  {
   "cell_type": "code",
   "execution_count": 40,
   "metadata": {},
   "outputs": [
    {
     "data": {
      "text/plain": [
       "{frozenset({'39', '704', '825'}): 1035}"
      ]
     },
     "execution_count": 40,
     "metadata": {},
     "output_type": "execute_result"
    }
   ],
   "source": [
    "itemsets[2]"
   ]
  },
  {
   "cell_type": "code",
   "execution_count": null,
   "metadata": {},
   "outputs": [],
   "source": []
  }
 ],
 "metadata": {
  "kernelspec": {
   "display_name": "Python 3",
   "language": "python",
   "name": "python3"
  },
  "language_info": {
   "codemirror_mode": {
    "name": "ipython",
    "version": 3
   },
   "file_extension": ".py",
   "mimetype": "text/x-python",
   "name": "python",
   "nbconvert_exporter": "python",
   "pygments_lexer": "ipython3",
   "version": "3.7.1"
  }
 },
 "nbformat": 4,
 "nbformat_minor": 2
}
