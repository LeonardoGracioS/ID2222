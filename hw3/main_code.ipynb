{
 "cells": [
  {
   "cell_type": "markdown",
   "metadata": {},
   "source": [
    "# Triest Base"
   ]
  },
  {
   "cell_type": "code",
   "execution_count": 5,
   "metadata": {},
   "outputs": [],
   "source": [
    "class Edge:\n",
    "    def __init__(self, frm, to):#UNDIRECTED graph\n",
    "        if frm < to:\n",
    "            self.frm = frm # from\n",
    "            self.to = to\n",
    "        else:\n",
    "            self.to = frm\n",
    "            self.frm = to\n",
    "    def __hash__(self):\n",
    "        return hash((self.frm, self.to))\n",
    "    def __eq__(self, other):\n",
    "        return isinstance(self, type(other)) and other.frm == self.frm and self.to == other.to\n",
    "\n",
    "edges = set()#[]\n",
    "\n",
    "test_set = set()\n",
    "\n",
    "with open(\"dataset.txt\") as f:\n",
    "    for line in f:\n",
    "        if line[0] == \"%\":\n",
    "            continue\n",
    "        content = line.split()\n",
    "        if content[0] != content[1]:# and Edge(content[0], content[1]) not in test_set:\n",
    "            #edges += [Edge(content[0], content[1])]\n",
    "            test_set.add(Edge(content[0], content[1]))\n",
    "        \n",
    "#check unique edges"
   ]
  },
  {
   "cell_type": "code",
   "execution_count": 6,
   "metadata": {},
   "outputs": [
    {
     "name": "stdout",
     "output_type": "stream",
     "text": [
      "0\n",
      "True\n",
      "9007486980457191138\n",
      "9007486980457191138\n"
     ]
    }
   ],
   "source": [
    "print(len(edges))\n",
    "print(Edge('1','2').__eq__(Edge('2','1')))\n",
    "print(Edge('1','2').__hash__())\n",
    "print(Edge('2','1').__hash__())"
   ]
  },
  {
   "cell_type": "code",
   "execution_count": 3,
   "metadata": {},
   "outputs": [],
   "source": [
    "import random\n",
    "\n",
    "class Triest_base:\n",
    "    def __init__(self, set_limit=200):\n",
    "        self.t = 0\n",
    "        self.tau = 0\n",
    "        self.edge_sampled = set()\n",
    "        self.set_limit = set_limit #>=6\n",
    "        self.counters = {}\n",
    "\n",
    "    def sample(self, edge):\n",
    "        if self.t<=self.set_limit:\n",
    "            return True\n",
    "        if random.random() <= (self.set_limit/self.t):\n",
    "            remove_el = random.sample(self.edge_sampled, 1)[0]\n",
    "            self.edge_sampled.remove(remove_el)\n",
    "            self.update_counters('-', edge)\n",
    "            return True\n",
    "        return False\n",
    "\n",
    "    def update_counters(self, op, edge):    \n",
    "        s1 = set()\n",
    "        s2 = set()\n",
    "        for e in self.edge_sampled:\n",
    "            if e.frm == edge.frm:\n",
    "                s1.add(e.to)\n",
    "            if e.to == edge.frm:\n",
    "                s1.add(e.frm)\n",
    "            if e.frm == edge.to:\n",
    "                s2.add(e.to)\n",
    "            if e.to == edge.to:\n",
    "                s2.add(e.frm)\n",
    "        for c in (s1 & s2):\n",
    "            if op == '+':\n",
    "                self.tau+=1\n",
    "                self.counters[c] = self.counters.get(c, 0)+1\n",
    "                self.counters[edge.frm] = self.counters.get(edge.frm, 0)+1\n",
    "                self.counters[edge.to] = self.counters.get(edge.to, 0)+1\n",
    "\n",
    "            elif op == '-':\n",
    "                self.tau-=1\n",
    "                self.counters[c] = self.counters.get(c, 0)-1\n",
    "                if self.counters[c] <= 0:\n",
    "                    del self.counters[c]\n",
    "                self.counters[edge.frm] = self.counters.get(edge.frm, 0)-1\n",
    "                if self.counters[edge.frm] <= 0:\n",
    "                    del self.counters[edge.frm]\n",
    "                self.counters[edge.to] = self.counters.get(edge.to, 0)-1\n",
    "                if self.counters[edge.to] <= 0:\n",
    "                    del self.counters[edge.to]\n",
    "                    \n",
    "    def run(self, stream_edges):\n",
    "        for edge in stream_edges:\n",
    "            if self.t % 1000 == 0:\n",
    "                print(\"element \", self.t, \"value: \", self.tau)\n",
    "            self.t += 1\n",
    "            if self.sample(edge):\n",
    "                self.edge_sampled.add(edge)\n",
    "                self.update_counters('+', edge)\n",
    "        eps = (self.t*(self.t-1)*(self.t-2))/(self.set_limit*(self.set_limit-1)*(self.set_limit-2))\n",
    "        if eps < 1:\n",
    "            eps = 1\n",
    "        return self.tau*eps"
   ]
  },
  {
   "cell_type": "code",
   "execution_count": 4,
   "metadata": {},
   "outputs": [
    {
     "name": "stdout",
     "output_type": "stream",
     "text": [
      "element  0 value:  0\n",
      "element  1000 value:  2\n",
      "element  2000 value:  2\n",
      "element  3000 value:  2\n",
      "element  4000 value:  2\n",
      "element  5000 value:  2\n",
      "element  6000 value:  2\n",
      "element  0 value:  0\n",
      "element  1000 value:  2\n",
      "element  2000 value:  9\n",
      "element  3000 value:  46\n",
      "element  4000 value:  139\n",
      "element  5000 value:  301\n",
      "element  6000 value:  505\n",
      "With  1000 samples the expected value is  574.8879205137001  . The true value is  651.0  . Error:  76.11207948629988  triangles\n"
     ]
    }
   ],
   "source": [
    "sample_size = 1000\n",
    "t = Triest_base(sample_size)\n",
    "exp = t.run(test_set)\n",
    "t_val = Triest_base(len(test_set)).run(test_set)\n",
    "print(\"With \", sample_size, \"samples the expected value is \", exp,\" . The true value is \", t_val,\" . Error: \", abs(t_val - exp),\" triangles\")"
   ]
  },
  {
   "cell_type": "markdown",
   "metadata": {},
   "source": [
    "# Plot number of triangles"
   ]
  },
  {
   "cell_type": "code",
   "execution_count": 17,
   "metadata": {},
   "outputs": [
    {
     "name": "stdout",
     "output_type": "stream",
     "text": [
      "element  0 value:  0\n",
      "element  1000 value:  6\n",
      "element  2000 value:  26\n",
      "element  3000 value:  68\n",
      "element  4000 value:  156\n",
      "element  5000 value:  283\n",
      "element  6000 value:  491\n",
      "element  0 value:  0\n",
      "element  1000 value:  6\n",
      "element  2000 value:  10\n",
      "element  3000 value:  10\n",
      "element  4000 value:  10\n",
      "element  5000 value:  10\n",
      "element  6000 value:  10\n",
      "element  0 value:  0\n",
      "element  1000 value:  6\n",
      "element  2000 value:  26\n",
      "element  3000 value:  26\n",
      "element  4000 value:  26\n",
      "element  5000 value:  26\n",
      "element  6000 value:  26\n",
      "element  0 value:  0\n",
      "element  1000 value:  6\n",
      "element  2000 value:  26\n",
      "element  3000 value:  43\n",
      "element  4000 value:  43\n",
      "element  5000 value:  43\n",
      "element  6000 value:  43\n",
      "element  0 value:  0\n",
      "element  1000 value:  6\n",
      "element  2000 value:  26\n",
      "element  3000 value:  68\n",
      "element  4000 value:  68\n",
      "element  5000 value:  68\n",
      "element  6000 value:  68\n",
      "element  0 value:  0\n",
      "element  1000 value:  6\n",
      "element  2000 value:  26\n",
      "element  3000 value:  68\n",
      "element  4000 value:  156\n",
      "element  5000 value:  156\n",
      "element  6000 value:  156\n",
      "element  0 value:  0\n",
      "element  1000 value:  6\n",
      "element  2000 value:  26\n",
      "element  3000 value:  68\n",
      "element  4000 value:  156\n",
      "element  5000 value:  283\n",
      "element  6000 value:  283\n",
      "element  0 value:  0\n",
      "element  1000 value:  6\n",
      "element  2000 value:  26\n",
      "element  3000 value:  68\n",
      "element  4000 value:  156\n",
      "element  5000 value:  283\n",
      "element  6000 value:  491\n"
     ]
    },
    {
     "data": {
      "image/png": "[encoded data removed]",
      "text/plain": [
       "<Figure size 432x288 with 1 Axes>"
      ]
     },
     "metadata": {
      "needs_background": "light"
     },
     "output_type": "display_data"
    }
   ],
   "source": [
    "import matplotlib.pyplot as plt \n",
    "import time\n",
    "\n",
    "%matplotlib inline\n",
    "\n",
    "t_val = Triest_base(len(test_set)).run(test_set)\n",
    "\n",
    "M = [1500,2000,2500,3000,4000,5000,10000]\n",
    "exp2 = []\n",
    "time_t = []\n",
    "\n",
    "for sample_size in M:\n",
    "    time1=time.clock()\n",
    "    t = Triest_base(sample_size)\n",
    "    exp = t.run(test_set)\n",
    "    exp2.append(exp)\n",
    "\n",
    "    time2=time.clock()\n",
    "    time_t.append(time2-time1)\n",
    "\n",
    "\n",
    "\n",
    "plt.title(\"TRIEST-base\")\n",
    "plt.plot(M, exp2)\n",
    "plt.xlabel(\"Value of M\")\n",
    "plt.ylabel(\"Number of triangles\")\n",
    "plt.xticks(M)\n",
    "plt.grid(True)\n",
    "plt.show();"
   ]
  },
  {
   "cell_type": "markdown",
   "metadata": {},
   "source": [
    "# Plot time"
   ]
  },
  {
   "cell_type": "code",
   "execution_count": 18,
   "metadata": {},
   "outputs": [
    {
     "data": {
      "image/png": "[encoded data removed]",
      "text/plain": [
       "<Figure size 432x288 with 1 Axes>"
      ]
     },
     "metadata": {
      "needs_background": "light"
     },
     "output_type": "display_data"
    }
   ],
   "source": [
    "plt.title(\"TRIEST-base\")\n",
    "plt.plot(M, time_t)\n",
    "plt.xlabel(\"Value of M\")\n",
    "plt.ylabel(\"Time\")\n",
    "plt.xticks(M)\n",
    "plt.grid(True)\n",
    "plt.show();"
   ]
  },
  {
   "cell_type": "markdown",
   "metadata": {},
   "source": [
    "# Triest Improved"
   ]
  },
  {
   "cell_type": "code",
   "execution_count": 19,
   "metadata": {},
   "outputs": [],
   "source": [
    "## TRIEST IMPR\n",
    "\n",
    "import random\n",
    "\n",
    "class Triest_impr:\n",
    "    def __init__(self, set_limit=200):\n",
    "        self.t = 0\n",
    "        self.tau = 0\n",
    "        self.edge_sampled = set()\n",
    "        self.set_limit = set_limit #>=6\n",
    "        self.counters = {}\n",
    "\n",
    "    def sample(self, edge):\n",
    "        if self.t<=self.set_limit:\n",
    "            return True\n",
    "        if random.random() <= (self.set_limit/self.t):\n",
    "            remove_el = random.sample(self.edge_sampled, 1)[0]\n",
    "            self.edge_sampled.remove(remove_el)\n",
    "            return True\n",
    "        return False\n",
    "\n",
    "    def update_counters(self, t, edge):    \n",
    "        s1 = set()\n",
    "        s2 = set()\n",
    "        for e in self.edge_sampled:\n",
    "            if e.frm == edge.frm:\n",
    "                s1.add(e.to)\n",
    "            if e.to == edge.frm:\n",
    "                s1.add(e.frm)\n",
    "            if e.frm == edge.to:\n",
    "                s2.add(e.to)\n",
    "            if e.to == edge.to:\n",
    "                s2.add(e.frm)\n",
    "       \n",
    "        weight_t = ((self.t-1)*(self.t-2))/(self.set_limit * (self.set_limit) )\n",
    "        if weight_t < 1:\n",
    "            weight_t = 1\n",
    "        for c in (s1 & s2):\n",
    "                self.tau+= weight_t\n",
    "                self.counters[c] = self.counters.get(c, 0)+ weight_t\n",
    "                self.counters[edge.frm] = self.counters.get(edge.frm, 0)+weight_t\n",
    "                self.counters[edge.to] = self.counters.get(edge.to, 0)+weight_t\n",
    "                    \n",
    "    def run(self, stream_edges):\n",
    "        for edge in stream_edges:\n",
    "            \n",
    "            if self.t % 1000 == 0:\n",
    "                print(\"element \", self.t, \"value: \", self.tau)\n",
    "            self.t += 1\n",
    "            self.update_counters(t, edge)\n",
    "            if self.sample(edge):\n",
    "                self.edge_sampled.add(edge)\n",
    "                \n",
    "        return self.tau"
   ]
  },
  {
   "cell_type": "code",
   "execution_count": 20,
   "metadata": {},
   "outputs": [
    {
     "name": "stdout",
     "output_type": "stream",
     "text": [
      "element  0 value:  0\n",
      "element  1000 value:  6\n",
      "element  2000 value:  28.668074000000004\n",
      "element  3000 value:  48.886058000000006\n",
      "element  4000 value:  164.12095399999998\n",
      "element  5000 value:  327.48683399999993\n",
      "element  6000 value:  563.66874\n",
      "element  0 value:  0\n",
      "element  1000 value:  6\n",
      "element  2000 value:  26\n",
      "element  3000 value:  68\n",
      "element  4000 value:  156\n",
      "element  5000 value:  283\n",
      "element  6000 value:  491\n",
      "With  1000 samples the expected value is  721.737694  . The true value is  651.0  . Error:  70.73769400000003  triangles\n"
     ]
    }
   ],
   "source": [
    "sample_size = 1000\n",
    "t = Triest_impr(sample_size)\n",
    "exp = t.run(test_set)\n",
    "t_val = Triest_base(len(test_set)).run(test_set)\n",
    "print(\"With \", sample_size, \"samples the expected value is \", exp,\" . The true value is \", t_val,\" . Error: \", abs(t_val - exp),\" triangles\")"
   ]
  },
  {
   "cell_type": "markdown",
   "metadata": {},
   "source": [
    "# Plot number of triangles"
   ]
  },
  {
   "cell_type": "code",
   "execution_count": 21,
   "metadata": {},
   "outputs": [
    {
     "name": "stdout",
     "output_type": "stream",
     "text": [
      "element  0 value:  0\n",
      "element  1000 value:  6\n",
      "element  2000 value:  26\n",
      "element  3000 value:  68\n",
      "element  4000 value:  156\n",
      "element  5000 value:  283\n",
      "element  6000 value:  491\n",
      "element  0 value:  0\n",
      "element  1000 value:  6\n",
      "element  2000 value:  24.332779555555554\n",
      "element  3000 value:  60.01806933333333\n",
      "element  4000 value:  146.68648444444443\n",
      "element  5000 value:  265.9883937777778\n",
      "element  6000 value:  412.7236666666667\n",
      "element  0 value:  0\n",
      "element  1000 value:  6\n",
      "element  2000 value:  26\n",
      "element  3000 value:  63.65279649999999\n",
      "element  4000 value:  181.04466500000007\n",
      "element  5000 value:  323.0881410000001\n",
      "element  6000 value:  561.9969305000001\n",
      "element  0 value:  0\n",
      "element  1000 value:  6\n",
      "element  2000 value:  26\n",
      "element  3000 value:  67.45602848000001\n",
      "element  4000 value:  147.79058336000006\n",
      "element  5000 value:  297.7162118400001\n",
      "element  6000 value:  499.37810496000026\n",
      "element  0 value:  0\n",
      "element  1000 value:  6\n",
      "element  2000 value:  26\n",
      "element  3000 value:  68\n",
      "element  4000 value:  157.18266066666664\n",
      "element  5000 value:  298.05931155555567\n",
      "element  6000 value:  525.9562386666668\n",
      "element  0 value:  0\n",
      "element  1000 value:  6\n",
      "element  2000 value:  26\n",
      "element  3000 value:  68\n",
      "element  4000 value:  156\n",
      "element  5000 value:  284.92141912499983\n",
      "element  6000 value:  510.0630419999997\n",
      "element  0 value:  0\n",
      "element  1000 value:  6\n",
      "element  2000 value:  26\n",
      "element  3000 value:  68\n",
      "element  4000 value:  156\n",
      "element  5000 value:  283\n",
      "element  6000 value:  481.23695319999985\n",
      "element  0 value:  0\n",
      "element  1000 value:  6\n",
      "element  2000 value:  26\n",
      "element  3000 value:  68\n",
      "element  4000 value:  156\n",
      "element  5000 value:  283\n",
      "element  6000 value:  491\n"
     ]
    },
    {
     "data": {
      "image/png": "[encoded data removed]",
      "text/plain": [
       "<Figure size 432x288 with 1 Axes>"
      ]
     },
     "metadata": {
      "needs_background": "light"
     },
     "output_type": "display_data"
    }
   ],
   "source": [
    "import matplotlib.pyplot as plt \n",
    "import time\n",
    "\n",
    "%matplotlib inline\n",
    "\n",
    "t_val = Triest_impr(len(test_set)).run(test_set)\n",
    "\n",
    "M = [1500,2000,2500,3000,4000,5000,10000]\n",
    "exp2 = []\n",
    "time_t = []\n",
    "\n",
    "for sample_size in M:\n",
    "    time1=time.clock()\n",
    "    t = Triest_impr(sample_size)\n",
    "    exp = t.run(test_set)\n",
    "    exp2.append(exp)\n",
    "\n",
    "    time2=time.clock()\n",
    "    time_t.append(time2-time1)\n",
    "\n",
    "\n",
    "\n",
    "plt.title(\"TRIEST-improved\")\n",
    "plt.plot(M, exp2)\n",
    "plt.xlabel(\"Value of M\")\n",
    "plt.ylabel(\"Number of triangles\")\n",
    "plt.xticks(M)\n",
    "plt.grid(True)\n",
    "plt.show();"
   ]
  },
  {
   "cell_type": "markdown",
   "metadata": {},
   "source": [
    "# Plot time"
   ]
  },
  {
   "cell_type": "code",
   "execution_count": 22,
   "metadata": {},
   "outputs": [
    {
     "data": {
      "image/png": "[encoded data removed]",
      "text/plain": [
       "<Figure size 432x288 with 1 Axes>"
      ]
     },
     "metadata": {
      "needs_background": "light"
     },
     "output_type": "display_data"
    }
   ],
   "source": [
    "plt.title(\"TRIEST-improved\")\n",
    "plt.plot(M, time_t)\n",
    "plt.xlabel(\"Value of M\")\n",
    "plt.ylabel(\"Number of triangles\")\n",
    "plt.xticks(M)\n",
    "plt.grid(True)\n",
    "plt.show();"
   ]
  }
 ],
 "metadata": {
  "kernelspec": {
   "display_name": "Python 3",
   "language": "python",
   "name": "python3"
  },
  "language_info": {
   "codemirror_mode": {
    "name": "ipython",
    "version": 3
   },
   "file_extension": ".py",
   "mimetype": "text/x-python",
   "name": "python",
   "nbconvert_exporter": "python",
   "pygments_lexer": "ipython3",
   "version": "3.7.1"
  }
 },
 "nbformat": 4,
 "nbformat_minor": 2
}
